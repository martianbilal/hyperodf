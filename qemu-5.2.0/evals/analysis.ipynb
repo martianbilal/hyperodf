{
 "cells": [
  {
   "cell_type": "code",
   "execution_count": 2,
   "metadata": {},
   "outputs": [
    {
     "name": "stdout",
     "output_type": "stream",
     "text": [
      "Already up to date.\n"
     ]
    }
   ],
   "source": [
    "! git pull"
   ]
  },
  {
   "cell_type": "code",
   "execution_count": 3,
   "metadata": {},
   "outputs": [],
   "source": [
    "# imports\n",
    "import os\n",
    "import pandas as pd\n"
   ]
  },
  {
   "cell_type": "code",
   "execution_count": 4,
   "metadata": {},
   "outputs": [],
   "source": [
    "qemu_path = os.getenv('MOD_QEMU')\n",
    "\n",
    "# identify the main run parent directory to use\n",
    "rundir = f'{qemu_path}/evals/runs/run1G'\n"
   ]
  },
  {
   "cell_type": "code",
   "execution_count": 16,
   "metadata": {},
   "outputs": [
    {
     "name": "stdout",
     "output_type": "stream",
     "text": [
      "   0.000\n",
      " 102.325\n",
      "   0.544\n",
      "   0.038\n",
      "   0.082\n",
      "   0.246\n",
      "   0.652\n",
      "   1.121\n",
      "   0.018\n",
      " 301.515\n",
      "   0.010\n",
      "   0.000\n",
      "   0.098\n",
      "   0.013\n",
      "   0.065\n",
      "   0.001\n",
      "   8.578\n",
      "   0.158\n",
      "   0.006\n",
      "   0.000\n",
      "   0.010\n",
      "   0.012\n"
     ]
    }
   ],
   "source": [
    "durations = []\n",
    "\n",
    "for i in range(1,11):\n",
    "    df = pd.read_csv(f'{rundir}/run{i}.csv')\n",
    "    df = df.iloc[:,-1]\n",
    "    durations.append(df)\n",
    "\n",
    "# create a new dataframe with the average of the last column of all the csv files\n",
    "df = pd.concat(durations, axis=1).mean(axis=1)\n",
    "print(df.to_string(index=False))"
   ]
  },
  {
   "cell_type": "code",
   "execution_count": null,
   "metadata": {},
   "outputs": [],
   "source": []
  }
 ],
 "metadata": {
  "kernelspec": {
   "display_name": "Python 3",
   "language": "python",
   "name": "python3"
  },
  "language_info": {
   "codemirror_mode": {
    "name": "ipython",
    "version": 3
   },
   "file_extension": ".py",
   "mimetype": "text/x-python",
   "name": "python",
   "nbconvert_exporter": "python",
   "pygments_lexer": "ipython3",
   "version": "3.6.9"
  }
 },
 "nbformat": 4,
 "nbformat_minor": 2
}
